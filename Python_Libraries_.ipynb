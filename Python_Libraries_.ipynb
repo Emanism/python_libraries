{
  "nbformat": 4,
  "nbformat_minor": 0,
  "metadata": {
    "colab": {
      "provenance": []
    },
    "kernelspec": {
      "name": "python3",
      "display_name": "Python 3"
    },
    "language_info": {
      "name": "python"
    }
  },
  "cells": [
    {
      "cell_type": "code",
      "execution_count": null,
      "metadata": {
        "id": "GVFSg7YgLLHn"
      },
      "outputs": [],
      "source": [
        "#NumPy exercises\n",
        "\n",
        "#Array creation"
      ]
    },
    {
      "cell_type": "code",
      "source": [
        "import numpy as np\n",
        "\n",
        "# Create a numpy array of size 10, filled with zeros\n",
        "array_zeros = np.zeros(10)\n",
        "print(array_zeros)\n"
      ],
      "metadata": {
        "id": "HlHd-D1PLWNP"
      },
      "execution_count": null,
      "outputs": []
    },
    {
      "cell_type": "code",
      "source": [
        "# Create a numpy array with values ranging from 10 to 49 and set its datatype to float\n",
        "array_float = np.arange(10, 50, dtype=float)\n",
        "print(array_float)\n"
      ],
      "metadata": {
        "id": "fQ8SuXYKLWXX"
      },
      "execution_count": null,
      "outputs": []
    },
    {
      "cell_type": "code",
      "source": [
        "# Create a numpy matrix of 2*2 integers, filled with ones\n",
        "matrix_ones_int = np.ones((2, 2), dtype=int)\n",
        "print(matrix_ones_int)\n"
      ],
      "metadata": {
        "id": "m8pAJxEwLWbV"
      },
      "execution_count": null,
      "outputs": []
    },
    {
      "cell_type": "code",
      "source": [
        "# Create a numpy matrix of 3*2 float numbers, filled with ones\n",
        "matrix_ones_float = np.ones((3, 2), dtype=float)\n",
        "print(matrix_ones_float)"
      ],
      "metadata": {
        "id": "DC-qSxl4LWhT"
      },
      "execution_count": null,
      "outputs": []
    },
    {
      "cell_type": "code",
      "source": [
        "# Given the X numpy array, create a new numpy array with the same shape and type as X, filled with ones.\n",
        "X = np.array([1, 2, 3, 4, 5])\n",
        "ones_like_X = np.ones_like(X)\n",
        "print(ones_like_X)\n"
      ],
      "metadata": {
        "id": "o4fBk2q0LWk9"
      },
      "execution_count": null,
      "outputs": []
    },
    {
      "cell_type": "code",
      "source": [
        "# Given the X numpy matrix, create a new numpy matrix with the same shape and type as X, filled with zeros.\n",
        "X_matrix = np.array([[1, 2], [3, 4]])\n",
        "zeros_like_X_matrix = np.zeros_like(X_matrix)\n",
        "print(zeros_like_X_matrix)\n"
      ],
      "metadata": {
        "id": "IIZLTRD_LWoq"
      },
      "execution_count": null,
      "outputs": []
    },
    {
      "cell_type": "code",
      "source": [
        "# Create a numpy matrix of 4*4 integers, filled with fives.\n",
        "matrix_fives = np.full((4, 4), 5, dtype=int)\n",
        "print(matrix_fives)\n"
      ],
      "metadata": {
        "id": "lSeZ8Ul5Mdhs"
      },
      "execution_count": null,
      "outputs": []
    },
    {
      "cell_type": "code",
      "source": [
        "# Given the X numpy matrix, create a new numpy matrix with the same shape and type as X, filled with sevens.\n",
        "X_matrix = np.array([[1, 2], [3, 4]])\n",
        "sevens_like_X_matrix = np.full_like(X_matrix, 7)\n",
        "print(sevens_like_X_matrix)"
      ],
      "metadata": {
        "id": "HeZFLxbKMd63"
      },
      "execution_count": null,
      "outputs": []
    },
    {
      "cell_type": "code",
      "source": [
        "# Create a 3*3 identity numpy matrix with ones on the diagonal and zeros elsewhere.\n",
        "identity_matrix = np.eye(3)\n",
        "print(identity_matrix)"
      ],
      "metadata": {
        "id": "TpbCYYbjMd_c"
      },
      "execution_count": null,
      "outputs": []
    },
    {
      "cell_type": "code",
      "source": [
        "# Create a numpy array, filled with 3 random integer values between 1 and 10.\n",
        "random_integers = np.random.randint(1, 11, 3)\n",
        "print(random_integers)"
      ],
      "metadata": {
        "id": "XmSR1q6uMeCW"
      },
      "execution_count": null,
      "outputs": []
    },
    {
      "cell_type": "code",
      "source": [
        "# Create a 3*3*3 numpy matrix, filled with random float values.\n",
        "random_floats = np.random.rand(3, 3, 3)\n",
        "print(random_floats)"
      ],
      "metadata": {
        "id": "vufkky1dMeFh"
      },
      "execution_count": null,
      "outputs": []
    },
    {
      "cell_type": "code",
      "source": [
        "# Create a numpy array with numbers from 1 to 10\n",
        "array_1_to_10 = np.arange(1, 11)\n",
        "print(array_1_to_10)"
      ],
      "metadata": {
        "id": "NBmX8V97MeIi"
      },
      "execution_count": null,
      "outputs": []
    },
    {
      "cell_type": "code",
      "source": [
        "# Create a numpy array with the odd numbers between 1 to 10\n",
        "array_odd_1_to_10 = np.arange(1, 11, 2)\n",
        "print(array_odd_1_to_10)\n"
      ],
      "metadata": {
        "id": "ykPvtNyfMeLe"
      },
      "execution_count": null,
      "outputs": []
    },
    {
      "cell_type": "code",
      "source": [
        "# Create a numpy array with numbers from 1 to 10, in descending order.\n",
        "array_descending = np.arange(10, 0, -1)\n",
        "print(array_descending)"
      ],
      "metadata": {
        "id": "YV_Fhzs7MeOR"
      },
      "execution_count": null,
      "outputs": []
    },
    {
      "cell_type": "code",
      "source": [
        "# Create a 3*3 numpy matrix, filled with values ranging from 0 to 8\n",
        "matrix_0_to_8 = np.arange(9).reshape(3, 3)\n",
        "print(matrix_0_to_8)"
      ],
      "metadata": {
        "id": "GNCL57dlMeQ0"
      },
      "execution_count": null,
      "outputs": []
    },
    {
      "cell_type": "code",
      "source": [
        "#Array Indexing:"
      ],
      "metadata": {
        "id": "ZIPgq54PMeTe"
      },
      "execution_count": null,
      "outputs": []
    },
    {
      "cell_type": "code",
      "source": [
        "# Given the X numpy array, show its first element\n",
        "X = np.array(['A', 'B', 'C', 'D', 'E'])\n",
        "print(X[0])\n"
      ],
      "metadata": {
        "id": "pHx6sRrsLWsR"
      },
      "execution_count": null,
      "outputs": []
    },
    {
      "cell_type": "code",
      "source": [
        "# Given the X numpy array, show its last element\n",
        "print(X[-1])"
      ],
      "metadata": {
        "id": "2djiD8J9NBEx"
      },
      "execution_count": null,
      "outputs": []
    },
    {
      "cell_type": "code",
      "source": [
        "# Given the X numpy array, show its first three elements\n",
        "print(X[:3])"
      ],
      "metadata": {
        "id": "h9_zb8eiNBP0"
      },
      "execution_count": null,
      "outputs": []
    },
    {
      "cell_type": "code",
      "source": [
        "# Given the X numpy array, show all middle elements\n",
        "print(X[1:-1])"
      ],
      "metadata": {
        "id": "MbHtPZqnNBaP"
      },
      "execution_count": null,
      "outputs": []
    },
    {
      "cell_type": "code",
      "source": [
        "# Given the X numpy array, show the elements in reverse position.\n",
        "print(X[::-1])"
      ],
      "metadata": {
        "id": "STKPuUYnNBjI"
      },
      "execution_count": null,
      "outputs": []
    },
    {
      "cell_type": "code",
      "source": [
        "# Given the X numpy array, show the elements in an odd position.\n",
        "print(X[::2])"
      ],
      "metadata": {
        "id": "vrxpGBB4LWwR"
      },
      "execution_count": null,
      "outputs": []
    },
    {
      "cell_type": "code",
      "source": [
        "# Given the X numpy matrix, show the first row’s elements.\n",
        "X_matrix = np.array([\n",
        "    [1, 2, 3, 4],\n",
        "    [5, 6, 7, 8],\n",
        "    [9, 10, 11, 12],\n",
        "    [13, 14, 15, 16]\n",
        "])\n",
        "print(X_matrix[0, :])"
      ],
      "metadata": {
        "id": "okIxqAcdLWzS"
      },
      "execution_count": null,
      "outputs": []
    },
    {
      "cell_type": "code",
      "source": [
        "# Given the X numpy matrix, show the last row elements.\n",
        "print(X_matrix[-1, :])"
      ],
      "metadata": {
        "id": "RUaeBLhiLW25"
      },
      "execution_count": null,
      "outputs": []
    },
    {
      "cell_type": "code",
      "source": [
        "# Given the X numpy matrix, show the first element on the first row\n",
        "print(X_matrix[0, 0])"
      ],
      "metadata": {
        "id": "ny-uUo4GNYyZ"
      },
      "execution_count": null,
      "outputs": []
    },
    {
      "cell_type": "code",
      "source": [
        "# Given the X numpy matrix, show the last element on the last row.\n",
        "print(X_matrix[-1, -1])\n"
      ],
      "metadata": {
        "id": "0Ro6U1c2Nc5p"
      },
      "execution_count": null,
      "outputs": []
    },
    {
      "cell_type": "code",
      "source": [
        "# Given the X numpy matrix, show the first two elements on the first two rows.\n",
        "print(X_matrix[:2, :2])\n"
      ],
      "metadata": {
        "id": "UxDW40hnNdAY"
      },
      "execution_count": null,
      "outputs": []
    },
    {
      "cell_type": "code",
      "source": [
        "# Given the X numpy matrix, show the last two elements on the last two rows.\n",
        "print(X_matrix[-2:, -2:])\n"
      ],
      "metadata": {
        "id": "NBL8FWd_NdDn"
      },
      "execution_count": null,
      "outputs": []
    },
    {
      "cell_type": "code",
      "source": [
        "#Array Manipulation:"
      ],
      "metadata": {
        "id": "qWCWcXOaNdG2"
      },
      "execution_count": null,
      "outputs": []
    },
    {
      "cell_type": "code",
      "source": [
        "# Convert the given integer numpy array to float\n",
        "X = np.array([-5, -3, 0, 10, 40], dtype=float)\n",
        "print(X)\n"
      ],
      "metadata": {
        "id": "zw0YWOUKNi9k"
      },
      "execution_count": null,
      "outputs": []
    },
    {
      "cell_type": "code",
      "source": [
        "# Reverse the given numpy array through indexing\n",
        "X = np.array([-5, -3, 0, 10, 40])\n",
        "print(X[::-1])\n"
      ],
      "metadata": {
        "id": "R-YvBEfANjAk"
      },
      "execution_count": null,
      "outputs": []
    },
    {
      "cell_type": "code",
      "source": [
        "# Given the X numpy array, set the fifth element equal to 1\n",
        "X[4] = 1\n",
        "print(X)"
      ],
      "metadata": {
        "id": "dejt6EyCNjDP"
      },
      "execution_count": null,
      "outputs": []
    },
    {
      "cell_type": "code",
      "source": [
        "# Given the X numpy matrix, change the last row with all 1\n",
        "X_matrix[-1, :] = 1\n",
        "print(X_matrix)"
      ],
      "metadata": {
        "id": "MhjJHDaeNjGK"
      },
      "execution_count": null,
      "outputs": []
    },
    {
      "cell_type": "code",
      "source": [
        "# Given the X numpy matrix, add 5 to every element\n",
        "X_matrix += 5\n",
        "print(X_matrix)"
      ],
      "metadata": {
        "id": "qjZXH6bqNjIp"
      },
      "execution_count": null,
      "outputs": []
    }
  ]
}